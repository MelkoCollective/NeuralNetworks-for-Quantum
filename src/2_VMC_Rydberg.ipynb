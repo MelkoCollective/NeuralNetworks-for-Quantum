{
 "cells": [
  {
   "cell_type": "markdown",
   "metadata": {},
   "source": [
    "# Variational Monte Carlo simulation of Rydberg atoms\n",
    "\n",
    "<br />\n",
    "\n",
    "In this notebook, we show an application of recurrent neural networks (RNN) to discover the ground state of a many-body Hamiltonian. The RNN is used to parametrize the wavefunction of the Rydberg atoms, and its parameters are trained by minimizing the total energy using variational Monte Carlo. The RNN wavefunction and the training routines are implemented in the file `vmc.py`."
   ]
  },
  {
   "cell_type": "markdown",
   "metadata": {},
   "source": [
    "### Importing Tensorflow, Numpy, and Matplotlib "
   ]
  },
  {
   "cell_type": "code",
   "execution_count": 3,
   "metadata": {
    "collapsed": true
   },
   "outputs": [],
   "source": [
    "import numpy as np\n",
    "import tensorflow as tf\n",
    "import matplotlib.pyplot as plt"
   ]
  },
  {
   "cell_type": "markdown",
   "metadata": {},
   "source": [
    "### RNN wavefunction"
   ]
  },
  {
   "cell_type": "code",
   "execution_count": 14,
   "metadata": {},
   "outputs": [],
   "source": [
    "class VariationalMonteCarlo(tf.keras.Model):\n",
    "\n",
    "    # Constructor\n",
    "    def __init__(self, Lx, Ly, \n",
    "                 V, Omega, delta,\n",
    "                 num_hidden, learning_rate,\n",
    "                 epochs, seed=1234):\n",
    "        \n",
    "        super(VariationalMonteCarlo, self).__init__()\n",
    "\n",
    "        \"\"\" PARAMETERS \"\"\"\n",
    "        self.Lx       = Lx              # Size along x\n",
    "        self.Ly       = Ly              # Size along y\n",
    "        self.V        = V               # Van der Waals potential\n",
    "        self.Omega    = Omega           # Rabi frequency\n",
    "        self.delta    = delta           # Detuning\n",
    "\n",
    "        self.N        = Lx * Ly         # Number of spins\n",
    "        self.nh       = num_hidden      # Number of hidden units in the RNN\n",
    "        self.seed     = seed            # Seed of random number generator\n",
    "        self.epochs   = epochs          # Training epochs \n",
    "        self.K        = 2               # Dimension of the local Hilbert space\n",
    "\n",
    "        # Set the seed of the rng\n",
    "        tf.random.set_seed(self.seed)\n",
    "\n",
    "        # Optimizer\n",
    "        self.optimizer = tf.optimizers.Adam(learning_rate, epsilon=1e-8)\n",
    "\n",
    "        # Build the model RNN\n",
    "        # RNN layer: N -> nh\n",
    "        self.rnn = tf.keras.layers.GRU(self.nh, kernel_initializer='glorot_uniform',\n",
    "                                       kernel_regularizer = tf.keras.regularizers.l2(0.001),\n",
    "                                       return_sequences = True,\n",
    "                                       return_state = True,\n",
    "                                       stateful = False)\n",
    "\n",
    "        # Dense layer: nh - > K\n",
    "        self.dense = tf.keras.layers.Dense(self.K, activation = tf.nn.softmax,\n",
    "                                           kernel_regularizer = tf.keras.regularizers.l2(0.001))\n",
    "\n",
    "        # Generate the list of bonds for NN,NNN,NNNN on a \n",
    "        # square lattice with open boundaries\n",
    "        self.buildlattice()\n",
    "    \n",
    "    @tf.function\n",
    "    def sample(self,nsamples):\n",
    "        # Zero initialization for visible and hidden state \n",
    "        inputs = 0.0*tf.one_hot(tf.zeros(shape=[nsamples,1],dtype=tf.int32),depth=self.K)\n",
    "        hidden_state = tf.zeros(shape=[nsamples,self.nh])\n",
    "\n",
    "        logP = tf.zeros(shape=[nsamples,],dtype=tf.float32)\n",
    "\n",
    "        for j in range(self.N):\n",
    "            # Run a single RNN cell\n",
    "            rnn_output,hidden_state = self.rnn(inputs,initial_state=hidden_state)\n",
    "            # Compute log probabilities\n",
    "            probs = self.dense(rnn_output)\n",
    "            log_probs = tf.reshape(tf.math.log(1e-10+probs),[nsamples,self.K])\n",
    "            # Sample\n",
    "            sample = tf.random.categorical(log_probs,num_samples=1)\n",
    "            if (j == 0):\n",
    "                samples = tf.identity(sample)\n",
    "            else:\n",
    "                samples = tf.concat([samples,sample],axis=1)\n",
    "            # Feed result to the next cell\n",
    "            inputs = tf.one_hot(sample,depth=self.K)\n",
    "            add = tf.reduce_sum(log_probs*tf.reshape(inputs,(nsamples,self.K)),axis=1)\n",
    "\n",
    "            logP = logP+tf.reduce_sum(log_probs*tf.reshape(inputs,(nsamples,self.K)),axis=1)\n",
    "\n",
    "        return samples,logP\n",
    "\n",
    "    @tf.function\n",
    "    def logpsi(self,samples):\n",
    "        # Shift data\n",
    "        num_samples = tf.shape(samples)[0]\n",
    "        data   = tf.one_hot(samples[:,0:self.N-1],depth=self.K)\n",
    "\n",
    "        x0 = 0.0*tf.one_hot(tf.zeros(shape=[num_samples,1],dtype=tf.int32),depth=self.K)\n",
    "        inputs = tf.concat([x0,data],axis=1)\n",
    "\n",
    "        hidden_state = tf.zeros(shape=[num_samples,self.nh])\n",
    "        rnn_output,_ = self.rnn(inputs,initial_state = hidden_state)\n",
    "        probs        = self.dense(rnn_output)\n",
    "\n",
    "        log_probs   = tf.reduce_sum(tf.multiply(tf.math.log(1e-10+probs),tf.one_hot(samples,depth=self.K)),axis=2)\n",
    "\n",
    "        return 0.5*tf.reduce_sum(log_probs,axis=1)\n",
    "\n",
    "    #@tf.function\n",
    "    def localenergy(self,samples,logpsi):\n",
    "        eloc = tf.zeros(shape=[tf.shape(samples)[0]],dtype=tf.float32)\n",
    "\n",
    "        # Chemical potential\n",
    "        for j in range(self.N):\n",
    "            eloc += - self.delta * tf.cast(samples[:,j],tf.float32)\n",
    "     \n",
    "        for n in range(len(self.nns)):\n",
    "            eloc += (self.V/self.nns[n][0]) * tf.cast(samples[:,self.nns[n][1]]*samples[:,self.nns[n][2]],tf.float32)\n",
    "        \n",
    "\n",
    "        # Off-diagonal part\n",
    "        for j in range(self.N):\n",
    "            flip_samples = np.copy(samples)\n",
    "            flip_samples[:,j] = 1 - flip_samples[:,j]\n",
    "            flip_logpsi = self.logpsi(flip_samples)\n",
    "            eloc += -0.5*self.Omega * tf.math.exp(flip_logpsi-logpsi)\n",
    "\n",
    "        return eloc\n",
    "\n",
    "    \"\"\" Generate the square lattice structures \"\"\"\n",
    "    def coord_to_site(self,x,y):\n",
    "        return self.Ly*x+y\n",
    "    \n",
    "    def buildlattice(self):\n",
    "        self.nns = []\n",
    "        trunc_n = self.Lx\n",
    "        trunc_n_ = self.Ly\n",
    "        \n",
    "        for n in range(1,self.Lx):\n",
    "            for n_ in range(n+1):\n",
    "                \n",
    "                if n > trunc_n and n_ > trunc_n_ :\n",
    "                    continue\n",
    "        \n",
    "                else:\n",
    "                    for x in range(self.Lx-n_):\n",
    "                        for y in range(self.Ly-n):\n",
    "                            coeff = np.sqrt(n**2+n_**2)**6\n",
    "                            if n_ == 0 :\n",
    "                                self.nns.append([coeff,self.coord_to_site(x,y),self.coord_to_site(x,y+n)])\n",
    "                            elif n == n_: \n",
    "                                self.nns.append([coeff,self.coord_to_site(x,y),self.coord_to_site(x+n,y+n)])\n",
    "                                self.nns.append([coeff,self.coord_to_site(x+n,y),self.coord_to_site(x,y+n)])\n",
    "                            else:\n",
    "                                self.nns.append([coeff,self.coord_to_site(x,y),self.coord_to_site(x+n_,y+n)])\n",
    "                                self.nns.append([coeff,self.coord_to_site(x+n_,y),self.coord_to_site(x,y+n)])\n",
    "                            \n",
    "                    for y in range(self.Ly-n_):\n",
    "                        for x in range(self.Lx-n):\n",
    "                            coeff = np.sqrt(n**2+n_**2)**6\n",
    "                            if n_ == 0 :\n",
    "                                self.nns.append([coeff,self.coord_to_site(x,y),self.coord_to_site(x+n,y)])\n",
    "                            elif n == n_: \n",
    "                                continue #already counted above\n",
    "                            else:\n",
    "                                self.nns.append([coeff,self.coord_to_site(x,y),self.coord_to_site(x+n,y+n_)])\n",
    "                                self.nns.append([coeff,self.coord_to_site(x,y+n_),self.coord_to_site(x+n,y)])\n"
   ]
  },
  {
   "cell_type": "markdown",
   "metadata": {},
   "source": [
    "### Testing Buildlattice loops"
   ]
  },
  {
   "cell_type": "code",
   "execution_count": 15,
   "metadata": {},
   "outputs": [
    {
     "name": "stdout",
     "output_type": "stream",
     "text": [
      "[[1.0, 0, 1], [1.0, 1, 2], [1.0, 2, 3], [1.0, 4, 5], [1.0, 5, 6], [1.0, 6, 7], [1.0, 8, 9], [1.0, 9, 10], [1.0, 10, 11], [1.0, 12, 13], [1.0, 13, 14], [1.0, 14, 15], [1.0, 0, 4], [1.0, 4, 8], [1.0, 8, 12], [1.0, 1, 5], [1.0, 5, 9], [1.0, 9, 13], [1.0, 2, 6], [1.0, 6, 10], [1.0, 10, 14], [1.0, 3, 7], [1.0, 7, 11], [1.0, 11, 15], [8.000000000000004, 0, 5], [8.000000000000004, 4, 1], [8.000000000000004, 1, 6], [8.000000000000004, 5, 2], [8.000000000000004, 2, 7], [8.000000000000004, 6, 3], [8.000000000000004, 4, 9], [8.000000000000004, 8, 5], [8.000000000000004, 5, 10], [8.000000000000004, 9, 6], [8.000000000000004, 6, 11], [8.000000000000004, 10, 7], [8.000000000000004, 8, 13], [8.000000000000004, 12, 9], [8.000000000000004, 9, 14], [8.000000000000004, 13, 10], [8.000000000000004, 10, 15], [8.000000000000004, 14, 11], [64.0, 0, 2], [64.0, 1, 3], [64.0, 4, 6], [64.0, 5, 7], [64.0, 8, 10], [64.0, 9, 11], [64.0, 12, 14], [64.0, 13, 15], [64.0, 0, 8], [64.0, 4, 12], [64.0, 1, 9], [64.0, 5, 13], [64.0, 2, 10], [64.0, 6, 14], [64.0, 3, 11], [64.0, 7, 15], [125.00000000000004, 0, 6], [125.00000000000004, 4, 2], [125.00000000000004, 1, 7], [125.00000000000004, 5, 3], [125.00000000000004, 4, 10], [125.00000000000004, 8, 6], [125.00000000000004, 5, 11], [125.00000000000004, 9, 7], [125.00000000000004, 8, 14], [125.00000000000004, 12, 10], [125.00000000000004, 9, 15], [125.00000000000004, 13, 11], [125.00000000000004, 0, 9], [125.00000000000004, 1, 8], [125.00000000000004, 4, 13], [125.00000000000004, 5, 12], [125.00000000000004, 1, 10], [125.00000000000004, 2, 9], [125.00000000000004, 5, 14], [125.00000000000004, 6, 13], [125.00000000000004, 2, 11], [125.00000000000004, 3, 10], [125.00000000000004, 6, 15], [125.00000000000004, 7, 14], [512.0000000000002, 0, 10], [512.0000000000002, 8, 2], [512.0000000000002, 1, 11], [512.0000000000002, 9, 3], [512.0000000000002, 4, 14], [512.0000000000002, 12, 6], [512.0000000000002, 5, 15], [512.0000000000002, 13, 7], [729.0, 0, 3], [729.0, 4, 7], [729.0, 8, 11], [729.0, 12, 15], [729.0, 0, 12], [729.0, 1, 13], [729.0, 2, 14], [729.0, 3, 15], [1000.0000000000003, 0, 7], [1000.0000000000003, 4, 3], [1000.0000000000003, 4, 11], [1000.0000000000003, 8, 7], [1000.0000000000003, 8, 15], [1000.0000000000003, 12, 11], [1000.0000000000003, 0, 13], [1000.0000000000003, 1, 12], [1000.0000000000003, 1, 14], [1000.0000000000003, 2, 13], [1000.0000000000003, 2, 15], [1000.0000000000003, 3, 14], [2196.9999999999995, 0, 11], [2196.9999999999995, 8, 3], [2196.9999999999995, 4, 15], [2196.9999999999995, 12, 7], [2196.9999999999995, 0, 14], [2196.9999999999995, 2, 12], [2196.9999999999995, 1, 15], [2196.9999999999995, 3, 13], [5831.999999999997, 0, 15], [5831.999999999997, 12, 3]] 120\n"
     ]
    }
   ],
   "source": [
    "Lx = 4\n",
    "Ly = 4\n",
    "nns = []\n",
    "\n",
    "def coord_to_site(x,y):\n",
    "        return Ly*x+y\n",
    "\n",
    "for n in range(1,Lx):\n",
    "    for n_ in range(n+1):\n",
    "        trunc_n= Lx\n",
    "        trunc_n_ = Lx\n",
    "        \n",
    "        if n > trunc_n and n_ > trunc_n_:\n",
    "            continue\n",
    "        \n",
    "        else:\n",
    "            for x in range(Lx-n_):\n",
    "                for y in range(Ly-n):\n",
    "                    coeff = np.sqrt(n**2+n_**2)**6\n",
    "                    if n_ == 0 :\n",
    "                        nns.append([coeff,coord_to_site(x,y),coord_to_site(x,y+n)])\n",
    "                    elif n == n_:\n",
    "                        nns.append([coeff,coord_to_site(x,y),coord_to_site(x+n,y+n)])\n",
    "                        nns.append([coeff,coord_to_site(x+n,y),coord_to_site(x,y+n)])\n",
    "                    else:\n",
    "                        nns.append([coeff,coord_to_site(x,y),coord_to_site(x+n_,y+n)])\n",
    "                        nns.append([coeff,coord_to_site(x+n_,y),coord_to_site(x,y+n)])\n",
    "                    \n",
    "            for y in range(Ly-n_):\n",
    "                for x in range(Lx-n):\n",
    "                    coeff = np.sqrt(n**2+n_**2)**6\n",
    "                    if n_ == 0 :\n",
    "                        nns.append([coeff,coord_to_site(x,y),coord_to_site(x+n,y)])\n",
    "                    elif n == n_:\n",
    "                        continue\n",
    "                    else:\n",
    "                        nns.append([coeff,coord_to_site(x,y),coord_to_site(x+n,y+n_)])\n",
    "                        nns.append([coeff,coord_to_site(x,y+n_),coord_to_site(x+n,y)])\n",
    "\n",
    "print(nns, len(nns))"
   ]
  },
  {
   "cell_type": "markdown",
   "metadata": {},
   "source": [
    "### Define parameters"
   ]
  },
  {
   "cell_type": "code",
   "execution_count": 16,
   "metadata": {
    "collapsed": true
   },
   "outputs": [],
   "source": [
    "# Hamiltonian parameters\n",
    "Lx = 4      # Linear size in x direction\n",
    "Ly = 4      # Linear size in y direction\n",
    "N = Lx*Ly   # Total number of atoms\n",
    "V = 7.0     # Strength of Van der Waals interaction\n",
    "Omega = 1.0 # Rabi frequency\n",
    "delta = 1.0 # Detuning \n",
    "\n",
    "# RNN-VMC parameters\n",
    "lr = 0.001     # learning rate of Adam optimizer\n",
    "nh = 32        # Number of hidden units in the GRU cell\n",
    "ns = 500       # Number of samples used to approximate the energy at each step\n",
    "epochs = 1000  # Training iterations\n",
    "seed = 1234    # Seed of RNG\n",
    "\n",
    "# Exact energy from exact diagonalization\n",
    "exact_energy = -0.45776822"
   ]
  },
  {
   "cell_type": "code",
   "execution_count": 17,
   "metadata": {},
   "outputs": [
    {
     "name": "stdout",
     "output_type": "stream",
     "text": [
      "Running VMC for delta = 1.0\n"
     ]
    }
   ],
   "source": [
    "print(\"Running VMC for delta =\",delta)\n",
    "vmc = VariationalMonteCarlo(Lx,Ly,V,Omega,delta,nh,lr,epochs,seed)\n",
    "energy = []\n",
    "variance = []\n",
    "for n in range(1,epochs+1):\n",
    "    samples, _ = vmc.sample(ns)\n",
    "    \n",
    "    # Evaluate the loss function in AD mode\n",
    "    with tf.GradientTape() as tape:\n",
    "        logpsi = vmc.logpsi(samples)\n",
    "        eloc = vmc.localenergy(samples, logpsi)\n",
    "        Eo = tf.stop_gradient(tf.reduce_mean(eloc))\n",
    "\n",
    "        loss = tf.reduce_mean(2.0*tf.multiply(logpsi, tf.stop_gradient(eloc)) - 2.0*Eo*logpsi)\n",
    "    \n",
    "    # Compute the gradients\n",
    "    gradients = tape.gradient(loss, vmc.trainable_variables)\n",
    "    \n",
    "    # Update the parameters\n",
    "    vmc.optimizer.apply_gradients(zip(gradients, vmc.trainable_variables))    \n",
    "    \n",
    "    energies = eloc.numpy()\n",
    "    avg_E = np.mean(energies)/float(N)\n",
    "    var_E = np.var(energies)/float(N)\n",
    "    energy.append(avg_E)"
   ]
  },
  {
   "cell_type": "code",
   "execution_count": 18,
   "metadata": {},
   "outputs": [
    {
     "name": "stdout",
     "output_type": "stream",
     "text": [
      "final energy =  -0.42561089992523193\n",
      "exact energy =  -0.45776822\n",
      "error =  -0.03215732007476807\n"
     ]
    },
    {
     "data": {
      "image/png": "[encoded data removed]",
      "text/plain": [
       "<matplotlib.figure.Figure at 0x7f7f2d7dceb8>"
      ]
     },
     "metadata": {},
     "output_type": "display_data"
    }
   ],
   "source": [
    "fig = plt.figure(1,figsize=(6,2.5), dpi=120, facecolor='w', edgecolor='k')\n",
    "\n",
    "plt.plot(energy,marker='o',markersize=2,linewidth=0.0,markevery=5,label=\"RNN\")\n",
    "plt.hlines(exact_energy,0,1000,linestyle=\"--\",label=\"Exact\")\n",
    "\n",
    "plt.xlabel(\"Step\",fontsize=15)\n",
    "plt.ylabel(\"$\\\\langle H \\\\rangle$\",fontsize=20)\n",
    "plt.legend(loc=\"best\")\n",
    "print('final energy = ',energy[-1])\n",
    "print('exact energy = ',exact_energy)\n",
    "print('error = ',exact_energy-energy[-1])\n",
    "\n",
    "plt.show()"
   ]
  },
  {
   "cell_type": "code",
   "execution_count": null,
   "metadata": {
    "collapsed": true
   },
   "outputs": [],
   "source": []
  }
 ],
 "metadata": {
  "kernelspec": {
   "display_name": "Python 3",
   "language": "python",
   "name": "python3"
  },
  "language_info": {
   "codemirror_mode": {
    "name": "ipython",
    "version": 3
   },
   "file_extension": ".py",
   "mimetype": "text/x-python",
   "name": "python",
   "nbconvert_exporter": "python",
   "pygments_lexer": "ipython3",
   "version": "3.6.3"
  }
 },
 "nbformat": 4,
 "nbformat_minor": 2
}
